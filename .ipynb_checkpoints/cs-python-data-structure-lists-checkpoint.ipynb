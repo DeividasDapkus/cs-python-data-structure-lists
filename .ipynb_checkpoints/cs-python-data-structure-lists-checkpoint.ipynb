{
 "cells": [
  {
   "cell_type": "markdown",
   "metadata": {},
   "source": [
    "# Lists\n",
    "\n",
    "## List Exercises\n",
    "For all of these exercises you will need either\n",
    "\n",
    "1) A list of numbers: \n",
    "\n",
    "```python \n",
    "numList = [1,5,6,2,3,4,5]\n",
    "```\n",
    "\n",
    "2) A list of strings: \n",
    "\n",
    "```python\n",
    "wordList = [\"apple\", \"banana\", \"grape\", \"cinnamon\", \"apple\", \"eggplant\", \"falafel\", \"grape\", \"grape\"]\n",
    "```\n",
    "\n",
    "They have been defined for you in the first code cell below"
   ]
  },
  {
   "cell_type": "markdown",
   "metadata": {},
   "source": [
    "## Task 1: What error do you get when you run the code below?"
   ]
  },
  {
   "cell_type": "code",
   "execution_count": 1,
   "metadata": {
    "scrolled": true
   },
   "outputs": [
    {
     "name": "stdout",
     "output_type": "stream",
     "text": [
      "7\n",
      "4\n"
     ]
    },
    {
     "ename": "IndexError",
     "evalue": "list index out of range",
     "output_type": "error",
     "traceback": [
      "\u001b[0;31m---------------------------------------------------------------------------\u001b[0m",
      "\u001b[0;31mIndexError\u001b[0m                                Traceback (most recent call last)",
      "\u001b[0;32m<ipython-input-1-0321cdb11a5c>\u001b[0m in \u001b[0;36m<module>\u001b[0;34m\u001b[0m\n\u001b[1;32m      3\u001b[0m \u001b[0mprint\u001b[0m\u001b[0;34m(\u001b[0m\u001b[0mx\u001b[0m\u001b[0;34m)\u001b[0m\u001b[0;34m\u001b[0m\u001b[0;34m\u001b[0m\u001b[0m\n\u001b[1;32m      4\u001b[0m \u001b[0mprint\u001b[0m\u001b[0;34m(\u001b[0m\u001b[0mnumList\u001b[0m\u001b[0;34m[\u001b[0m\u001b[0;36m5\u001b[0m\u001b[0;34m]\u001b[0m\u001b[0;34m)\u001b[0m\u001b[0;34m\u001b[0m\u001b[0;34m\u001b[0m\u001b[0m\n\u001b[0;32m----> 5\u001b[0;31m \u001b[0mprint\u001b[0m \u001b[0;34m(\u001b[0m\u001b[0mnumList\u001b[0m\u001b[0;34m[\u001b[0m\u001b[0;36m9\u001b[0m\u001b[0;34m]\u001b[0m\u001b[0;34m)\u001b[0m\u001b[0;34m\u001b[0m\u001b[0;34m\u001b[0m\u001b[0m\n\u001b[0m",
      "\u001b[0;31mIndexError\u001b[0m: list index out of range"
     ]
    }
   ],
   "source": [
    "numList = [1,5,6,2,3,4,5]\n",
    "x = len(numList)\n",
    "print(x)\n",
    "print(numList[5])\n",
    "print (numList[9])"
   ]
  },
  {
   "cell_type": "markdown",
   "metadata": {},
   "source": [
    "#### How will you define this error? Index out of range erro"
   ]
  },
  {
   "cell_type": "markdown",
   "metadata": {},
   "source": [
    "## EXAMPLE Iterating through the list and displaying the data items. "
   ]
  },
  {
   "cell_type": "code",
   "execution_count": 2,
   "metadata": {},
   "outputs": [
    {
     "name": "stdout",
     "output_type": "stream",
     "text": [
      "1\n",
      "5\n",
      "6\n",
      "2\n",
      "3\n",
      "4\n",
      "5\n"
     ]
    }
   ],
   "source": [
    "numList = [1,5,6,2,3,4,5]\n",
    "\n",
    "for x in numList: \n",
    "    print(x)"
   ]
  },
  {
   "cell_type": "code",
   "execution_count": 3,
   "metadata": {},
   "outputs": [
    {
     "name": "stdout",
     "output_type": "stream",
     "text": [
      "apple\n",
      "banana\n",
      "grape\n",
      "cinnamon\n",
      "apple\n",
      "eggplant\n",
      "falafel\n",
      "grape\n",
      "grape\n"
     ]
    }
   ],
   "source": [
    "wordList = [\"apple\", \"banana\", \"grape\", \"cinnamon\", \"apple\", \"eggplant\", \"falafel\", \"grape\", \"grape\"]\n",
    " \n",
    "for i in range(len(wordList)):\n",
    "    print(wordList[i])"
   ]
  },
  {
   "cell_type": "markdown",
   "metadata": {},
   "source": [
    "## Task 2:  list1 and list2 are defined. Append and extend methods to add items in the list. Comment the code below explaining the difference between append and extend methods."
   ]
  },
  {
   "cell_type": "code",
   "execution_count": 48,
   "metadata": {},
   "outputs": [
    {
     "name": "stdout",
     "output_type": "stream",
     "text": [
      "['cat', 'horse', 'donkey']\n",
      "['elephant', 'tiger', 'dog', 'mouse']\n"
     ]
    }
   ],
   "source": [
    "list1 = []                    # A new empty list\n",
    "list1.append(\"cat\")           # Add a single member at the end\n",
    "list1.extend([\"horse\",\"donkey\"]) # Adds the items to the end of the list\n",
    "print(list1)\n",
    "\n",
    "list1 = [\"elephant\", \"tiger\"]\n",
    "\n",
    "list1.extend([\"dog\", \"mouse\"])  \n",
    "\n",
    "print(list1)\n",
    "#append adds to the list wherever and extend adds to the end of the list"
   ]
  },
  {
   "cell_type": "markdown",
   "metadata": {},
   "source": [
    "## Task 3: Use insert/remove method to add or delete a data item to or from a list "
   ]
  },
  {
   "cell_type": "code",
   "execution_count": 45,
   "metadata": {},
   "outputs": [
    {
     "name": "stdout",
     "output_type": "stream",
     "text": [
      "['cow', 'doe', 'fly', 'elephant', 'tiger', 'dog', 'mouse']\n",
      "['cow', 'fly', 'elephant', 'tiger', 'dog', 'mouse']\n",
      "['cow', 'lion', 'fly', 'elephant', 'tiger', 'dog', 'mouse']\n"
     ]
    }
   ],
   "source": [
    "list1.insert(0, \"fly\")          # Insert at the beginning\n",
    "list1[0:0] = [\"cow\", \"doe\"]     # Add members at the beginning\n",
    "print(list1)\n",
    "list1.pop(1)                    # takes out a certain value from a list\n",
    "if \"cat\" in list1:              # if cat is in list\n",
    "  list1.remove(\"cat\")           # cat will be removed\n",
    "print(list1)\n",
    "list1.insert(1,\"lion\")\n",
    "print(list1)"
   ]
  },
  {
   "cell_type": "markdown",
   "metadata": {},
   "source": [
    "## Task 3 continued: Create a list of five school subjects. Ask the user which of these subjects is their least favourite. Remove their choice from the list before you display the list again. "
   ]
  },
  {
   "cell_type": "code",
   "execution_count": 47,
   "metadata": {},
   "outputs": [
    {
     "name": "stdout",
     "output_type": "stream",
     "text": [
      "['Maths', 'English', 'Science', 'Business', 'Computer Science']\n",
      "Which subject is your least favourite:Maths\n",
      "['English', 'Science', 'Business', 'Computer Science']\n"
     ]
    }
   ],
   "source": [
    "list = [\"Maths\",\"English\",\"Science\",\"Business\",\"Computer Science\"]\n",
    "print(list)\n",
    "subject = input(\"Which subject is your least favourite:\")\n",
    "if subject in list:\n",
    "  list.remove(subject)\n",
    "print(list)"
   ]
  },
  {
   "cell_type": "markdown",
   "metadata": {},
   "source": [
    "## Task 4 - Create a list of four four-digit numbers. Display the list to the user, showing each item from the list on a separate line. Ask the user to enter a three digit number. If the number they have typed in matches one in the list, display the position of that number in the list, otherwise display the message: \"Not found!\"."
   ]
  },
  {
   "cell_type": "code",
   "execution_count": 62,
   "metadata": {},
   "outputs": [
    {
     "name": "stdout",
     "output_type": "stream",
     "text": [
      "8642\n",
      "4813\n",
      "7952\n",
      "1248\n",
      "enter a 3 digit number:2\n"
     ]
    }
   ],
   "source": [
    "listn = [8642,4813,7952,1248]\n",
    "for n in listn:\n",
    "    print(n)\n",
    "number = int(input(\"enter a 3 digit number:\"))\n",
    "if number in listn:\n",
    "    print(listn.index(number))\n"
   ]
  },
  {
   "cell_type": "markdown",
   "metadata": {},
   "source": [
    "## How to use the 'in' operator in the list"
   ]
  },
  {
   "cell_type": "code",
   "execution_count": null,
   "metadata": {
    "scrolled": true
   },
   "outputs": [],
   "source": [
    "for item in list1:              # Iteration AKA for each item\n",
    "  print(item)\n",
    "print(\"Item count:\", len(list1)) # Length AKA size AKA item count"
   ]
  },
  {
   "cell_type": "markdown",
   "metadata": {},
   "source": [
    "## Slicing Lists \n",
    "## Task 5: Run the code below and comment each line of the code"
   ]
  },
  {
   "cell_type": "code",
   "execution_count": 71,
   "metadata": {},
   "outputs": [
    {
     "name": "stdout",
     "output_type": "stream",
     "text": [
      "['apple', 'banana', 'grape', 'cinnamon', 'apple', 'eggplant', 'falafel', 'grape']\n",
      "['apple', 'banana', 'grape', 'cinnamon', 'apple', 'eggplant', 'falafel', 'grape', 'grape']\n",
      "['banana', 'grape', 'cinnamon', 'apple']\n",
      "['apple', 'banana', 'grape', 'cinnamon', 'apple', 'eggplant', 'falafel', 'grape', 'grape']\n",
      "[]\n",
      "['apple', 'eggplant', 'falafel']\n",
      "['grape', 'grape', 'falafel', 'eggplant', 'apple', 'cinnamon', 'grape', 'banana']\n",
      "['grape', 'grape', 'falafel', 'eggplant', 'apple', 'cinnamon', 'grape', 'banana', 'apple']\n"
     ]
    }
   ],
   "source": [
    "myList = [\"apple\", \"banana\", \"grape\", \"cinnamon\", \"apple\", \"eggplant\", \"falafel\", \"grape\", \"grape\"] # sets a list\n",
    "\n",
    "print(myList[0:8]) # print 9 items\n",
    "\n",
    "print(myList[0:len(myList)]) #prints from 0 to 9\n",
    "\n",
    "print(myList[1:5]) # prints from the 2nd item to the 7th item\n",
    "\n",
    "print(myList[:]) # prints everything in a list\n",
    "\n",
    "print(myList[4:2]) # prints an empty list\n",
    "\n",
    "print(myList[4:-2]) # prints from the 5th item to the 7th\n",
    "\n",
    "print(myList[len(myList):0:-1]) # prints nothing\n",
    "\n",
    "print(myList[len(myList)::-1]) # prints everything backwards"
   ]
  },
  {
   "cell_type": "markdown",
   "metadata": {},
   "source": [
    "## Task 6: Write a function which finds all string elements in a list matching a search term that has been entered  and replaces them with the another entered String instead.\n",
    "\n",
    "The search term you should use for testing is 'garage' and it should replace with 'workshop'."
   ]
  },
  {
   "cell_type": "code",
   "execution_count": 42,
   "metadata": {},
   "outputs": [],
   "source": [
    "# This function finds all the string elements matching a search term that has been \n",
    "# entered and replaces them with the string 'workshop' instead.\n",
    "\n",
    "def listFindReplace(wordList, searchWord, replaceWord):\n",
    "    newList = [] # a new empty list\n",
    "     #write your code here\n",
    "    for i in range(wordList.count(searchWord)):\n",
    "        if searchWord in wordList:\n",
    "            wordList.insert(wordList.index(searchWord),replaceWord)\n",
    "            wordList.pop(wordList.index(searchWord))\n",
    "        else:\n",
    "            break\n",
    "    newList = newList + wordList\n",
    "    #finally return the new list    \n",
    "    return newList"
   ]
  },
  {
   "cell_type": "code",
   "execution_count": 45,
   "metadata": {},
   "outputs": [
    {
     "name": "stdout",
     "output_type": "stream",
     "text": [
      "Enter the word to search for: bedroom\n",
      "What is the word you would like to replace?: cat\n",
      "['kitchen', 'garage', 'cat', 'bathroom', 'hall', 'garage']\n"
     ]
    }
   ],
   "source": [
    "#test your function above by running this code here.\n",
    "searchWord = input(\"Enter the word to search for: \")\n",
    "replaceWord = input(\"What is the word you would like to replace?: \")\n",
    "wordList = [\"kitchen\", \"garage\", \"bedroom\", \"bathroom\", \"hall\", \"garage\"]\n",
    "newList = listFindReplace(wordList, searchWord, replaceWord)\n",
    "print(newList)\n"
   ]
  }
 ],
 "metadata": {
  "kernelspec": {
   "display_name": "Python 3",
   "language": "python",
   "name": "python3"
  },
  "language_info": {
   "codemirror_mode": {
    "name": "ipython",
    "version": 3
   },
   "file_extension": ".py",
   "mimetype": "text/x-python",
   "name": "python",
   "nbconvert_exporter": "python",
   "pygments_lexer": "ipython3",
   "version": "3.6.8"
  }
 },
 "nbformat": 4,
 "nbformat_minor": 2
}
